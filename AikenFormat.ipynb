{
  "nbformat": 4,
  "nbformat_minor": 0,
  "metadata": {
    "colab": {
      "provenance": [],
      "authorship_tag": "ABX9TyMt5ajt/cIvWg7Gg7KA4XRc",
      "include_colab_link": true
    },
    "kernelspec": {
      "name": "python3",
      "display_name": "Python 3"
    },
    "language_info": {
      "name": "python"
    }
  },
  "cells": [
    {
      "cell_type": "markdown",
      "metadata": {
        "id": "view-in-github",
        "colab_type": "text"
      },
      "source": [
        "<a href=\"https://colab.research.google.com/github/alice1311/AVC/blob/main/AikenFormat.ipynb\" target=\"_parent\"><img src=\"https://colab.research.google.com/assets/colab-badge.svg\" alt=\"Open In Colab\"/></a>"
      ]
    },
    {
      "cell_type": "code",
      "execution_count": null,
      "metadata": {
        "colab": {
          "base_uri": "https://localhost:8080/"
        },
        "id": "QcRcyDK4EYLr",
        "outputId": "f5f26c2f-7f96-4c8c-fdc0-fee50195ceb5"
      },
      "outputs": [
        {
          "output_type": "stream",
          "name": "stdout",
          "text": [
            "Requirement already satisfied: openpyxl in /usr/local/lib/python3.10/dist-packages (3.0.10)\n",
            "Requirement already satisfied: et-xmlfile in /usr/local/lib/python3.10/dist-packages (from openpyxl) (1.1.0)\n"
          ]
        }
      ],
      "source": [
        "pip install openpyxl\n"
      ]
    },
    {
      "cell_type": "code",
      "source": [
        "import openpyxl\n",
        "\n",
        "class Question:\n",
        "    def __init__(self, question_id, content, options, answer):\n",
        "        self.question_id = question_id\n",
        "        self.content = content\n",
        "        self.options = options\n",
        "        self.answer = answer\n",
        "\n",
        "    def to_aiken_format(self):\n",
        "        sb = []\n",
        "        sb.append(self.content + \"\\n\")\n",
        "        for i in range(4):\n",
        "            sb.append(chr(ord('A') + i) + \". \" + self.options[i] + \"\\n\")\n",
        "        sb.append(\"ANSWER: \" + self.answer)\n",
        "        return \"\".join(sb)\n",
        "\n",
        "def read_questions_from_excel_files(content_file, options_file, answer_file):\n",
        "    questions = []\n",
        "\n",
        "    content_workbook = openpyxl.load_workbook(content_file)\n",
        "    options_workbook = openpyxl.load_workbook(options_file)\n",
        "    answer_workbook = openpyxl.load_workbook(answer_file)\n",
        "\n",
        "    content_sheet = content_workbook.active\n",
        "    options_sheet = options_workbook.active\n",
        "    answer_sheet = answer_workbook.active\n",
        "    index = 1;\n",
        "    row_count = content_sheet.max_row\n",
        "    for i in range(row_count):\n",
        "        content = content_sheet.cell(row=i + 1, column=1).value\n",
        "        options = []\n",
        "        answer = answer_sheet.cell(row=i + 1, column=1).value\n",
        "\n",
        "        for j in range(4):\n",
        "            options.append(options_sheet.cell(row=j+index, column=1).value)\n",
        "        question = Question(str(i + 1), content, options, answer)\n",
        "        questions.append(question)\n",
        "        index =index + 4;\n",
        "    return questions\n",
        "\n",
        "def write_questions_to_aiken_file(questions, output_file):\n",
        "    with open(output_file, \"w\") as writer:\n",
        "        for question in questions:\n",
        "            aiken_format = question.to_aiken_format()\n",
        "            writer.write(aiken_format + \"\\n\\n\")\n",
        "\n",
        "def main():\n",
        "    try:\n",
        "        questions = read_questions_from_excel_files(\"Input1.xlsx\", \"Input2.xlsx\", \"Input3.xlsx\")\n",
        "        write_questions_to_aiken_file(questions, \"output2.txt\")\n",
        "        print(\"Conversion completed successfully.\")\n",
        "    except Exception as e:\n",
        "        print(str(e))\n",
        "\n",
        "if __name__ == \"__main__\":\n",
        "    main()\n"
      ],
      "metadata": {
        "colab": {
          "base_uri": "https://localhost:8080/"
        },
        "id": "CaO0S40GEZRV",
        "outputId": "61d94359-274d-44cb-ba94-c97fd48007cb"
      },
      "execution_count": 8,
      "outputs": [
        {
          "output_type": "stream",
          "name": "stdout",
          "text": [
            "Conversion completed successfully.\n"
          ]
        }
      ]
    }
  ]
}